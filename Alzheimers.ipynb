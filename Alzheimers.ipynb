{
 "cells": [
  {
   "cell_type": "markdown",
   "metadata": {
    "colab_type": "text",
    "id": "view-in-github"
   },
   "source": [
    "<a href=\"https://colab.research.google.com/github/parismoscow/Alzheimer-s_Disease/blob/master/Alzheimers.ipynb\" target=\"_parent\"><img src=\"https://colab.research.google.com/assets/colab-badge.svg\" alt=\"Open In Colab\"/></a>"
   ]
  },
  {
   "cell_type": "code",
   "execution_count": 5,
   "metadata": {
    "colab": {
     "base_uri": "https://localhost:8080/",
     "height": 150
    },
    "colab_type": "code",
    "id": "4Xse9oyR7Cgm",
    "outputId": "13e8a142-1ba0-4f7e-cc0b-101f186643bd"
   },
   "outputs": [
    {
     "name": "stdout",
     "output_type": "stream",
     "text": [
      "Collecting imblearn\n",
      "  Downloading https://files.pythonhosted.org/packages/81/a7/4179e6ebfd654bd0eac0b9c06125b8b4c96a9d0a8ff9e9507eb2a26d2d7e/imblearn-0.0-py2.py3-none-any.whl\n",
      "Collecting imbalanced-learn (from imblearn)\n",
      "  Downloading https://files.pythonhosted.org/packages/e6/62/08c14224a7e242df2cef7b312d2ef821c3931ec9b015ff93bb52ec8a10a3/imbalanced_learn-0.5.0-py3-none-any.whl (173kB)\n",
      "Requirement already satisfied: scipy>=0.17 in c:\\users\\jasmi\\anaconda3\\lib\\site-packages (from imbalanced-learn->imblearn) (1.1.0)\n",
      "Collecting scikit-learn>=0.21 (from imbalanced-learn->imblearn)\n",
      "  Downloading https://files.pythonhosted.org/packages/75/14/fde90de4fc6722303ddbc183ec253c288dae8c7e4eb5a069ac49f14c9a0f/scikit_learn-0.21.2-cp37-cp37m-win_amd64.whl (5.9MB)\n",
      "Requirement already satisfied: numpy>=1.11 in c:\\users\\jasmi\\anaconda3\\lib\\site-packages (from imbalanced-learn->imblearn) (1.15.4)\n",
      "Requirement already satisfied: joblib>=0.11 in c:\\users\\jasmi\\anaconda3\\lib\\site-packages (from imbalanced-learn->imblearn) (0.13.2)\n",
      "Installing collected packages: scikit-learn, imbalanced-learn, imblearn\n",
      "  Found existing installation: scikit-learn 0.20.1\n",
      "    Uninstalling scikit-learn-0.20.1:\n",
      "      Successfully uninstalled scikit-learn-0.20.1\n"
     ]
    },
    {
     "name": "stderr",
     "output_type": "stream",
     "text": [
      "Could not install packages due to an EnvironmentError: [WinError 5] Access is denied: 'C:\\\\Users\\\\jasmi\\\\AppData\\\\Local\\\\Temp\\\\pip-uninstall-2wmacsb6\\\\users\\\\jasmi\\\\anaconda3\\\\lib\\\\site-packages\\\\sklearn\\\\ensemble\\\\_gradient_boosting.cp37-win_amd64.pyd'\n",
      "Consider using the `--user` option or check the permissions.\n",
      "\n"
     ]
    }
   ],
   "source": [
    "# !pip install imblearn"
   ]
  },
  {
   "cell_type": "code",
   "execution_count": 1,
   "metadata": {
    "colab": {
     "base_uri": "https://localhost:8080/",
     "height": 75
    },
    "colab_type": "code",
    "id": "ifRTf2aBnd05",
    "outputId": "c2f5bf99-7919-4749-df32-1028ff3f56a9"
   },
   "outputs": [],
   "source": [
    "import pandas as pd\n",
    "# import numpy as np\n",
    "from sklearn.model_selection import train_test_split\n",
    "from sklearn.metrics import classification_report\n",
    "# from sklearn.preprocessing import MinMaxScaler\n",
    "# from sklearn.preprocessing import StandardScaler\n",
    "# from sklearn.model_selection import GridSearchCV\n",
    "# from sklearn.ensemble import RandomForestClassifier\n",
    "# from imblearn.over_sampling import SMOTE\n",
    "# from imblearn.over_sampling import RandomOverSampler\n",
    "# from sklearn.decomposition import PCA\n",
    "# from sklearn.svm import SVC\n",
    "from sklearn.metrics import confusion_matrix\n",
    "# from sklearn.linear_model import LogisticRegression\n",
    "# from sklearn.preprocessing import LabelEncoder\n",
    "# from collections import Counter\n",
    "import ad_tools as adt\n",
    "import pickle\n",
    "\n"
   ]
  },
  {
   "cell_type": "code",
   "execution_count": 2,
   "metadata": {
    "colab": {
     "base_uri": "https://localhost:8080/",
     "height": 56
    },
    "colab_type": "code",
    "id": "bjyeL3Et9rVX",
    "outputId": "8540e79a-bbd7-49a6-b6b2-338c6b9f5cd6"
   },
   "outputs": [
    {
     "ename": "ModuleNotFoundError",
     "evalue": "No module named 'google.colab'",
     "output_type": "error",
     "traceback": [
      "\u001b[1;31m---------------------------------------------------------------------------\u001b[0m",
      "\u001b[1;31mModuleNotFoundError\u001b[0m                       Traceback (most recent call last)",
      "\u001b[1;32m<ipython-input-2-8af4301ed133>\u001b[0m in \u001b[0;36m<module>\u001b[1;34m\u001b[0m\n\u001b[0;32m      1\u001b[0m \u001b[1;31m# Run this cell to mount your Google Drive.\u001b[0m\u001b[1;33m\u001b[0m\u001b[1;33m\u001b[0m\u001b[1;33m\u001b[0m\u001b[0m\n\u001b[1;32m----> 2\u001b[1;33m \u001b[1;32mfrom\u001b[0m \u001b[0mgoogle\u001b[0m\u001b[1;33m.\u001b[0m\u001b[0mcolab\u001b[0m \u001b[1;32mimport\u001b[0m \u001b[0mdrive\u001b[0m\u001b[1;33m\u001b[0m\u001b[1;33m\u001b[0m\u001b[0m\n\u001b[0m\u001b[0;32m      3\u001b[0m \u001b[0mdrive\u001b[0m\u001b[1;33m.\u001b[0m\u001b[0mmount\u001b[0m\u001b[1;33m(\u001b[0m\u001b[1;34m'/content/drive'\u001b[0m\u001b[1;33m)\u001b[0m\u001b[1;33m\u001b[0m\u001b[1;33m\u001b[0m\u001b[0m\n",
      "\u001b[1;31mModuleNotFoundError\u001b[0m: No module named 'google.colab'"
     ]
    }
   ],
   "source": [
    "# Run this cell to mount your Google Drive.\n",
    "# from google.colab import drive\n",
    "# drive.mount('/content/drive')"
   ]
  },
  {
   "cell_type": "code",
   "execution_count": 87,
   "metadata": {
    "colab": {
     "base_uri": "https://localhost:8080/",
     "height": 75
    },
    "colab_type": "code",
    "id": "XiXhd9GEqIg8",
    "outputId": "f79c4b30-45b7-4374-dc95-0fa5f39074a5"
   },
   "outputs": [
    {
     "name": "stderr",
     "output_type": "stream",
     "text": [
      "/usr/local/lib/python3.6/dist-packages/IPython/core/interactiveshell.py:2718: DtypeWarning: Columns (471,473,474,487,488,489,490,491,492,493,494,495,496,497,498,499,500,501,502,503,504,505,506,507,508,509,510,511,512,513,514,515,516,517,518,519,520,521,522,523,524,525,526,527,528,529,530,531,532,533,534,535,536,537,538,539,540,541,542,543,544,545,546,547,548,549,550,551,552,553,554,555,556,557,558,559,560,561,562,563,569,570,572,573,574,575,576,577,578,579,580,581,582,583,584,585,586,587,588,589,590,591,592,593,594,595,596,597,599,601,606,607,608,609,610,611,612,613,614,615,616,617,618,619,620,621,624,625,626,627,628,629,630,631,632,633,634,636,637,638,639,640,641,642,643,644,645,646,647,648,649,650,651,652,653,654,655,656,657,658,659,660,661,663,664,665,666,667,668,669,670,671,672,673,674,675,676,677,678,679,680,681,682,683,684,685,686,687,688,689,690,691,692,693,694,695,696,697,698,699,700,701,702,703,704,705,706,707,708,709,710,711,712,713,714,715,716,717,718,719,720,721,722,723,724,725,726,727,728,729,730,731,732,733,734,735,736,737,738,739,745,746,748,749,750,751,752,753,754,755,756,757,758,759,760,761,762,763,764,765,766,767,770,771,776,777,778,779,780,781,782,783,784,785,786,787,788,789,790,791,794,795,797,798,799,800,801,802,803,804,806,807,808,809,810,811,812,813,814,815,816,817,818,819,820,821,822,823,824,825,826,827,828,829,830,831) have mixed types. Specify dtype option on import or set low_memory=False.\n",
      "  interactivity=interactivity, compiler=compiler, result=result)\n"
     ]
    }
   ],
   "source": [
    "# df = pd.read_csv(\"/content/drive/My Drive/measures.csv\")\n",
    "# df = pd.read_csv(\"/content/drive/My Drive/pct_changes.csv\")\n",
    "# choose either 'DX' or 'DXCHANGE' for prediction\n",
    "# df = pd.read_csv(\"/content/drive/My Drive/TADPOLE_D1_D2.csv\").loc[:, [\"PTID\", \"DX\", \"PTEDUCAT\", \"ADAS13\", \"Ventricles\", \"CDRSB\", \"ADAS11\", \"MMSE\",  \"RAVLT_immediate\", \"Hippocampus\", \"WholeBrain\", \"Entorhinal\", \"MidTemp\"]]\n",
    "# df = pd.read_csv(\"/content/drive/My Drive/TADPOLE_D1_D2.csv\").loc[:, [\"PTID\", \"DX\", \"PTGENDER\", \"PTEDUCAT\", \"ADAS13\", \"Ventricles\", \"CDRSB\", \"ADAS11\", \"MMSE\",  \"RAVLT_immediate\", \"Hippocampus\", \"WholeBrain\", \"Entorhinal\", \"MidTemp\", \"FDG\", \"AV45\", \"ABETA_UPENNBIOMK9_04_19_17\", \"TAU_UPENNBIOMK9_04_19_17\", \"PTAU_UPENNBIOMK9_04_19_17\", \"APOE4\"]]\n",
    "# df = pd.read_csv(\"/content/drive/My Drive/TADPOLE_D1_D2.csv\").loc[:, [\"PTID\", \"DX\", \"AGE\",  \"PTRACCAT\", \"PTETHCAT\", \"PTGENDER\", \"PTEDUCAT\", \"APOE4\", \"Ventricles\", \"CDRSB\", \"ADAS11\", \"MMSE\", \"ADAS13\", \"RAVLT_immediate\",  \"Hippocampus\", \"WholeBrain\", \"Entorhinal\", \"MidTemp\"]]\n",
    "# df = pd.read_csv(\"/content/drive/My Drive/TADPOLE_D1_D2.csv\").loc[:, [\"PTID\", \"DX\", \"PTRACCAT\", \"PTETHCAT\", \"PTGENDER\", \"PTEDUCAT\", \"ADAS13\", \"Ventricles\", \"CDRSB\", \"ADAS11\", \"MMSE\",  \"RAVLT_immediate\", \"Hippocampus\", \"WholeBrain\", \"Entorhinal\", \"MidTemp\", \"FDG\", \"AV45\", \"ABETA_UPENNBIOMK9_04_19_17\", \"TAU_UPENNBIOMK9_04_19_17\", \"PTAU_UPENNBIOMK9_04_19_17\", \"APOE4\"]]\n",
    "# df = pd.read_csv(\"/content/drive/My Drive/TADPOLE_D1_D2.csv\").loc[:, [\"PTID\", \"DX\", \"AGE\",  \"PTRACCAT\", \"PTETHCAT\", \"PTGENDER\", \"PTEDUCAT\", \"APOE4\", \"Ventricles\", \"CDRSB\", \"ADAS11\", \"MMSE\", \"ADAS13\", \"RAVLT_immediate\",  \"Hippocampus\", \"WholeBrain\", \"Entorhinal\", \"MidTemp\", \"FDG\", \"AV45\", \"ABETA_UPENNBIOMK9_04_19_17\", \"TAU_UPENNBIOMK9_04_19_17\", \"PTAU_UPENNBIOMK9_04_19_17\"]]\n",
    "\n",
    "df = pd.read_csv(\"/content/drive/My Drive/TADPOLE_D1_D2.csv\").loc[:, [\"PTID\", \"DX\", \"AGE\", \"PTRACCAT\", \"PTETHCAT\", \"PTGENDER\", \"PTEDUCAT\", \"APOE4\"]]\n",
    "\n",
    "# df.head()\n",
    "\n"
   ]
  },
  {
   "cell_type": "code",
   "execution_count": 0,
   "metadata": {
    "colab": {},
    "colab_type": "code",
    "id": "PZNttPE5yEWE"
   },
   "outputs": [],
   "source": [
    "# df.shape[0]"
   ]
  },
  {
   "cell_type": "code",
   "execution_count": 0,
   "metadata": {
    "colab": {},
    "colab_type": "code",
    "id": "OBjaGvZSlLN-"
   },
   "outputs": [],
   "source": [
    "# df['DX'].value_counts()"
   ]
  },
  {
   "cell_type": "code",
   "execution_count": 0,
   "metadata": {
    "colab": {},
    "colab_type": "code",
    "id": "cQHl73ruFgn9"
   },
   "outputs": [],
   "source": [
    "# drop = True\n",
    "# df = adt.cleanup_data(df, drop)"
   ]
  },
  {
   "cell_type": "code",
   "execution_count": 0,
   "metadata": {
    "colab": {},
    "colab_type": "code",
    "id": "ILRIY6Otreio"
   },
   "outputs": [],
   "source": [
    "# df = df.groupby('PTID').apply(adt.add_pct_change, ['Ventricles', 'Hippocampus', 'WholeBrain', 'Entorhinal', 'MidTemp'])\n",
    "# df = df.groupby('PTID').apply(adt.add_sum_column)\n",
    "# df = df.groupby('PTID').apply(adt.add_final_dx_column)\n",
    "# df = df.groupby('PTID').apply(add_pct_change, [\"ADAS13\", \"CDRSB\", \"ADAS11\", \"MMSE\", \"RAVLT_immediate\"])\n"
   ]
  },
  {
   "cell_type": "code",
   "execution_count": 0,
   "metadata": {
    "colab": {},
    "colab_type": "code",
    "id": "ad0Fa6Crxkv0"
   },
   "outputs": [],
   "source": [
    "# df.shape[0]"
   ]
  },
  {
   "cell_type": "code",
   "execution_count": 0,
   "metadata": {
    "colab": {},
    "colab_type": "code",
    "id": "sHKdcPNBU6_o"
   },
   "outputs": [],
   "source": [
    "# adt.show_data(df, 'DX')"
   ]
  },
  {
   "cell_type": "code",
   "execution_count": 0,
   "metadata": {
    "colab": {},
    "colab_type": "code",
    "id": "lRNAX7FYYNzh"
   },
   "outputs": [],
   "source": [
    "# df.to_csv(\"demographic_apoe4_cogtest_MRIpc_PET_CSF.csv\", index=False)\n"
   ]
  },
  {
   "cell_type": "code",
   "execution_count": 13,
   "metadata": {
    "colab": {},
    "colab_type": "code",
    "id": "eXlCiUmRZ2FP"
   },
   "outputs": [],
   "source": [
    "df = pd.read_csv(\"Data/demographic_apoe4_cogtest_MRIpc_PET_CSF.csv\")"
   ]
  },
  {
   "cell_type": "code",
   "execution_count": 14,
   "metadata": {
    "colab": {
     "base_uri": "https://localhost:8080/",
     "height": 186
    },
    "colab_type": "code",
    "id": "HN0CKy_7dwMC",
    "outputId": "8edd5487-a412-4816-c6d1-12343bf11070"
   },
   "outputs": [
    {
     "data": {
      "text/plain": [
       "MCI         425\n",
       "NL          281\n",
       "Dementia    107\n",
       "Name: DX, dtype: int64"
      ]
     },
     "execution_count": 14,
     "metadata": {},
     "output_type": "execute_result"
    }
   ],
   "source": [
    "df.head(100)\n",
    "\n",
    "df['DX'].value_counts()\n"
   ]
  },
  {
   "cell_type": "code",
   "execution_count": 15,
   "metadata": {
    "colab": {},
    "colab_type": "code",
    "id": "2zJ_nSMXXJT7"
   },
   "outputs": [],
   "source": [
    "X, y = adt.populate_X_y (df, 'DX', [\"PTRACCAT\", \"PTETHCAT\", \"PTGENDER\"])"
   ]
  },
  {
   "cell_type": "markdown",
   "metadata": {
    "colab_type": "text",
    "id": "Pcs3JASAS6Ny"
   },
   "source": [
    "Split data into train and test"
   ]
  },
  {
   "cell_type": "code",
   "execution_count": 16,
   "metadata": {
    "colab": {},
    "colab_type": "code",
    "id": "N12QSF2gn5ks"
   },
   "outputs": [],
   "source": [
    "X_train, X_test, y_train, y_test = train_test_split (X, y, random_state=42)"
   ]
  },
  {
   "cell_type": "markdown",
   "metadata": {
    "colab_type": "text",
    "id": "l_2oJLT06-34"
   },
   "source": [
    "PCA"
   ]
  },
  {
   "cell_type": "code",
   "execution_count": 0,
   "metadata": {
    "colab": {},
    "colab_type": "code",
    "id": "ApSq4HQOXebT"
   },
   "outputs": [],
   "source": [
    "# X_train, X_test = adt.myPCA (X_train, X_test)"
   ]
  },
  {
   "cell_type": "markdown",
   "metadata": {
    "colab_type": "text",
    "id": "qaY-gE6SGoVr"
   },
   "source": [
    "Scale the features"
   ]
  },
  {
   "cell_type": "code",
   "execution_count": 17,
   "metadata": {
    "colab": {},
    "colab_type": "code",
    "id": "sK2Y50GzbQ71"
   },
   "outputs": [],
   "source": [
    "X_train, X_test = adt.scale_features ('standard', X_train, X_test)"
   ]
  },
  {
   "cell_type": "code",
   "execution_count": 18,
   "metadata": {
    "colab": {
     "base_uri": "https://localhost:8080/",
     "height": 36
    },
    "colab_type": "code",
    "id": "FAGVDIogb9vM",
    "outputId": "7c4b55a5-cf9b-4b9d-d318-4a80f27ca074"
   },
   "outputs": [
    {
     "name": "stdout",
     "output_type": "stream",
     "text": [
      "Resampled dataset shape Counter({'MCI': 317, 'NL': 317, 'Dementia': 317})\n"
     ]
    }
   ],
   "source": [
    "# oversample using SMOTE or random\n",
    "X_train, y_train = adt.oversample ('smote', X_train, y_train)"
   ]
  },
  {
   "cell_type": "code",
   "execution_count": 0,
   "metadata": {
    "colab": {},
    "colab_type": "code",
    "id": "lbKEd_gLNnvp"
   },
   "outputs": [],
   "source": [
    "# pickle.dump(model, open('rf_demographic_apoe4_cogtest_MRIpc_PET_CSF.sav', 'wb'))\n"
   ]
  },
  {
   "cell_type": "code",
   "execution_count": 22,
   "metadata": {
    "colab": {},
    "colab_type": "code",
    "id": "nqnfY1lkMtsQ"
   },
   "outputs": [
    {
     "name": "stdout",
     "output_type": "stream",
     "text": [
      "0.9313725490196079 \n",
      "\n",
      "\n",
      "Using 951 samples for training\n",
      "\n",
      "Confusion matrix\n",
      " [[ 22   3   0]\n",
      " [  5 101   2]\n",
      " [  0   4  67]]\n",
      "\n",
      "               precision    recall  f1-score   support\n",
      "\n",
      "    Dementia       0.81      0.88      0.85        25\n",
      "         MCI       0.94      0.94      0.94       108\n",
      "          NL       0.97      0.94      0.96        71\n",
      "\n",
      "    accuracy                           0.93       204\n",
      "   macro avg       0.91      0.92      0.91       204\n",
      "weighted avg       0.93      0.93      0.93       204\n",
      "\n"
     ]
    }
   ],
   "source": [
    "filename = 'Models/rf_demographic_apoe4_cogtest_MRIpc_PET_CSF.sav'\n",
    "model = pickle.load(open(filename, 'rb'))\n",
    "print(model.score(X_test, y_test), \"\\n\")\n",
    "predictions = model.predict(X_test)\n",
    "print (\"\\nUsing\", len(X_train), \"samples for training\")\n",
    "\n",
    "print (\"\\nConfusion matrix\\n\", confusion_matrix(y_test, predictions))\n",
    "print(\"\\n\", classification_report(y_test, predictions))"
   ]
  },
  {
   "cell_type": "markdown",
   "metadata": {
    "colab_type": "text",
    "id": "EvmQV_4N2-CW"
   },
   "source": [
    "Select and run a model"
   ]
  },
  {
   "cell_type": "code",
   "execution_count": 19,
   "metadata": {
    "colab": {
     "base_uri": "https://localhost:8080/",
     "height": 392
    },
    "colab_type": "code",
    "id": "uivZYqWJDDkN",
    "outputId": "09bdb171-d269-4ee3-b0e6-e27bd1cbde80"
   },
   "outputs": [
    {
     "name": "stdout",
     "output_type": "stream",
     "text": [
      "************* random forest *************\n",
      " \n",
      "Score is:  0.9215686274509803 \n",
      "\n",
      "\n",
      "Confusion matrix\n",
      " [[22  3  0]\n",
      " [ 6 99  3]\n",
      " [ 0  4 67]]\n",
      "\n",
      "               precision    recall  f1-score   support\n",
      "\n",
      "    Dementia       0.79      0.88      0.83        25\n",
      "         MCI       0.93      0.92      0.93       108\n",
      "          NL       0.96      0.94      0.95        71\n",
      "\n",
      "    accuracy                           0.92       204\n",
      "   macro avg       0.89      0.91      0.90       204\n",
      "weighted avg       0.92      0.92      0.92       204\n",
      "\n"
     ]
    }
   ],
   "source": [
    "# model = adt.run_model('random forest', X_train, X_test, y_train, y_test)\n",
    "# # probas[0:10]"
   ]
  },
  {
   "cell_type": "code",
   "execution_count": 0,
   "metadata": {
    "colab": {},
    "colab_type": "code",
    "id": "y4g9U_SFzZw7"
   },
   "outputs": [],
   "source": [
    "# import matplotlib.pyplot as plt\n",
    "# probas = model.predict_proba(X_test)\n",
    "# # probas\n",
    "# plt.figure(dpi=150)\n",
    "# plt.hist(probas, bins=20)\n",
    "# plt.title('Classification Probabilities')\n",
    "# plt.xlabel('Probability')\n",
    "# plt.ylabel('# of Instances')\n",
    "# plt.xlim([0.5, 1.0])\n",
    "# target_names = [\"Dementia\", \"MCI\", \"NL\"]\n",
    "# plt.legend(target_names)\n",
    "# plt.show()"
   ]
  },
  {
   "cell_type": "code",
   "execution_count": 0,
   "metadata": {
    "colab": {},
    "colab_type": "code",
    "id": "CrHc5w0iaC5L"
   },
   "outputs": [],
   "source": [
    "\n",
    "feature_list = list(X.columns)\n",
    "# Import tools needed for visualization\n",
    "from sklearn.tree import export_graphviz\n",
    "import pydot\n",
    "\n",
    "# Pull out one tree from the forest\n",
    "tree = model.estimators_[0]\n",
    "\n",
    "# Export the image to a dot file\n",
    "export_graphviz(tree, out_file = 'tree.dot', feature_names = feature_list, rounded = True, precision = 1)\n",
    "\n",
    "# Use dot file to create a graph\n",
    "(graph, ) = pydot.graph_from_dot_file('tree.dot')\n",
    "\n",
    "# Write graph to a png file\n",
    "graph.write_png('small-tree1.png')"
   ]
  },
  {
   "cell_type": "code",
   "execution_count": 0,
   "metadata": {
    "colab": {},
    "colab_type": "code",
    "id": "XXs7JQWRgWNd"
   },
   "outputs": [],
   "source": [
    "X_features = X.columns\n"
   ]
  },
  {
   "cell_type": "code",
   "execution_count": 78,
   "metadata": {
    "colab": {
     "base_uri": "https://localhost:8080/",
     "height": 524
    },
    "colab_type": "code",
    "id": "lW6EA1YZliGm",
    "outputId": "e7eeb83e-84bd-48ea-ce5d-821e8785075b"
   },
   "outputs": [
    {
     "data": {
      "text/plain": [
       "[(0.3355390075821969, 'CDRSB'),\n",
       " (0.11666575778665449, 'MMSE'),\n",
       " (0.10730456649147746, 'ADAS13'),\n",
       " (0.09012826861651854, 'ADAS11'),\n",
       " (0.057877803254919674, 'RAVLT_immediate'),\n",
       " (0.04603672659454931, 'FDG'),\n",
       " (0.030462208513210222, 'AV45'),\n",
       " (0.030409538966399863, 'ABETA_UPENNBIOMK9_04_19_17'),\n",
       " (0.026840162365283485, 'Hippocampus'),\n",
       " (0.021803375210714702, 'AGE'),\n",
       " (0.019377587978160728, 'Entorhinal'),\n",
       " (0.017039066780720674, 'PTAU_UPENNBIOMK9_04_19_17'),\n",
       " (0.01703795414742583, 'TAU_UPENNBIOMK9_04_19_17'),\n",
       " (0.016370171869362585, 'Ventricles'),\n",
       " (0.01453879915417097, 'MidTemp'),\n",
       " (0.013218681751585087, 'WholeBrain'),\n",
       " (0.009620748286543314, 'PTEDUCAT'),\n",
       " (0.008737150096406975, 'APOE4'),\n",
       " (0.0038308284096831868, 'PTGENDER'),\n",
       " (0.0031219615666063403, 'pct_MidTemp'),\n",
       " (0.002958321919169551, 'PTRACCAT'),\n",
       " (0.002938366674358157, 'pct_Entorhinal'),\n",
       " (0.002308162986909878, 'pct_Hippocampus'),\n",
       " (0.002090176127358075, 'pct_Ventricles'),\n",
       " (0.0017685453354797714, 'pct_WholeBrain'),\n",
       " (0.001530415929257693, 'pct_sum'),\n",
       " (0.00044564560487656837, 'PTETHCAT')]"
      ]
     },
     "execution_count": 78,
     "metadata": {
      "tags": []
     },
     "output_type": "execute_result"
    }
   ],
   "source": [
    "importances = model.feature_importances_\n",
    "sorted(zip(model.feature_importances_, X_features), reverse=True)\n",
    "\n"
   ]
  },
  {
   "cell_type": "code",
   "execution_count": 80,
   "metadata": {
    "colab": {
     "base_uri": "https://localhost:8080/",
     "height": 36
    },
    "colab_type": "code",
    "id": "KMJTS_MRuELh",
    "outputId": "c3f0c422-48b4-4cf5-b586-d72cb66c7dea"
   },
   "outputs": [
    {
     "data": {
      "text/plain": [
       "27"
      ]
     },
     "execution_count": 80,
     "metadata": {
      "tags": []
     },
     "output_type": "execute_result"
    }
   ],
   "source": [
    "\n",
    "len(X_features)"
   ]
  },
  {
   "cell_type": "code",
   "execution_count": 79,
   "metadata": {
    "colab": {
     "base_uri": "https://localhost:8080/",
     "height": 148
    },
    "colab_type": "code",
    "id": "-VSrBFVMaSRj",
    "outputId": "3098eb24-655b-4052-870c-9aea3f934b76"
   },
   "outputs": [
    {
     "data": {
      "text/plain": [
       "Index(['AGE', 'PTRACCAT', 'PTETHCAT', 'PTGENDER', 'PTEDUCAT', 'APOE4',\n",
       "       'Ventricles', 'CDRSB', 'ADAS11', 'MMSE', 'ADAS13', 'RAVLT_immediate',\n",
       "       'Hippocampus', 'WholeBrain', 'Entorhinal', 'MidTemp', 'FDG', 'AV45',\n",
       "       'ABETA_UPENNBIOMK9_04_19_17', 'TAU_UPENNBIOMK9_04_19_17',\n",
       "       'PTAU_UPENNBIOMK9_04_19_17', 'pct_Ventricles', 'pct_Hippocampus',\n",
       "       'pct_WholeBrain', 'pct_Entorhinal', 'pct_MidTemp', 'pct_sum'],\n",
       "      dtype='object')"
      ]
     },
     "execution_count": 79,
     "metadata": {
      "tags": []
     },
     "output_type": "execute_result"
    }
   ],
   "source": [
    "X_features"
   ]
  },
  {
   "cell_type": "markdown",
   "metadata": {
    "colab_type": "text",
    "id": "HjFmhapkbIBq"
   },
   "source": [
    "DNN\n"
   ]
  },
  {
   "cell_type": "code",
   "execution_count": 81,
   "metadata": {
    "colab": {
     "base_uri": "https://localhost:8080/",
     "height": 36
    },
    "colab_type": "code",
    "id": "-aOAElqkZz7C",
    "outputId": "22cce05a-60ae-41c5-872e-931425e6e973"
   },
   "outputs": [
    {
     "name": "stderr",
     "output_type": "stream",
     "text": [
      "Using TensorFlow backend.\n"
     ]
    }
   ],
   "source": [
    "from keras.models import Sequential\n",
    "from keras.layers import Dense\n",
    "\n",
    "def build_NN_classifier():\n",
    "    classifier = Sequential()\n",
    "    classifier.add(Dense(units=6, activation='relu', input_dim=27))\n",
    "    classifier.add(Dense(units=6, activation='relu'))\n",
    "    classifier.add(Dense(units=6, activation='relu'))\n",
    "    classifier.add(Dense(units=6, activation='relu'))\n",
    "    classifier.add(Dense(units=4, activation='relu'))\n",
    "    classifier.add(Dense(units=4, activation='relu'))\n",
    "    classifier.add(Dense(units=4, activation='relu'))\n",
    "    classifier.add(Dense(units=4, activation='relu'))\n",
    "\n",
    "    classifier.add(Dense(units=3, activation='softmax'))\n",
    "    \n",
    "#     classifier.add(Dense(units=2, activation='relu', input_dim=22))\n",
    "#     classifier.add(Dense(units=3, activation='softmax'))\n",
    "    # classifier.summary()\n",
    "    classifier.compile(optimizer='adam', loss='categorical_crossentropy', metrics=['accuracy'])\n",
    "    return classifier\n",
    "\n",
    "# Create a Keras model that's compatible with scikit-learn\n",
    "from keras.callbacks import EarlyStopping\n",
    "from keras.wrappers.scikit_learn import KerasClassifier\n",
    "keras_NN_classifier = KerasClassifier(build_NN_classifier, epochs=300, shuffle=True, verbose=2, callbacks=[EarlyStopping(monitor='acc', patience=20, verbose=2)])"
   ]
  },
  {
   "cell_type": "code",
   "execution_count": 0,
   "metadata": {
    "colab": {},
    "colab_type": "code",
    "id": "oCaGyZeybO1L"
   },
   "outputs": [],
   "source": [
    "from sklearn.preprocessing import StandardScaler\n",
    "from sklearn.pipeline import make_pipeline\n",
    "# from sklearn.decomposition import PCA\n",
    "# from imblearn.over_sampling import SMOTE\n",
    "\n",
    "# pca = PCA()\n",
    "# smt = SMOTE(random_state=42)\n",
    "\n",
    "# deep_model = make_pipeline(StandardScaler(), smt, pca, keras_NN_classifier)\n",
    "model = make_pipeline(StandardScaler(), keras_NN_classifier)"
   ]
  },
  {
   "cell_type": "code",
   "execution_count": 83,
   "metadata": {
    "colab": {
     "base_uri": "https://localhost:8080/",
     "height": 1000
    },
    "colab_type": "code",
    "id": "eG5pRJahbR26",
    "outputId": "8fde3439-98ec-4ec9-9bf1-5a9536eb4b9d"
   },
   "outputs": [
    {
     "name": "stderr",
     "output_type": "stream",
     "text": [
      "WARNING: Logging before flag parsing goes to stderr.\n",
      "W0701 22:15:50.087455 140019794884480 deprecation_wrapper.py:119] From /usr/local/lib/python3.6/dist-packages/keras/backend/tensorflow_backend.py:74: The name tf.get_default_graph is deprecated. Please use tf.compat.v1.get_default_graph instead.\n",
      "\n",
      "W0701 22:15:50.103666 140019794884480 deprecation_wrapper.py:119] From /usr/local/lib/python3.6/dist-packages/keras/backend/tensorflow_backend.py:517: The name tf.placeholder is deprecated. Please use tf.compat.v1.placeholder instead.\n",
      "\n",
      "W0701 22:15:50.106137 140019794884480 deprecation_wrapper.py:119] From /usr/local/lib/python3.6/dist-packages/keras/backend/tensorflow_backend.py:4138: The name tf.random_uniform is deprecated. Please use tf.random.uniform instead.\n",
      "\n",
      "W0701 22:15:50.221170 140019794884480 deprecation_wrapper.py:119] From /usr/local/lib/python3.6/dist-packages/keras/optimizers.py:790: The name tf.train.Optimizer is deprecated. Please use tf.compat.v1.train.Optimizer instead.\n",
      "\n",
      "W0701 22:15:50.244669 140019794884480 deprecation_wrapper.py:119] From /usr/local/lib/python3.6/dist-packages/keras/backend/tensorflow_backend.py:3295: The name tf.log is deprecated. Please use tf.math.log instead.\n",
      "\n",
      "W0701 22:15:50.467236 140019794884480 deprecation.py:323] From /usr/local/lib/python3.6/dist-packages/tensorflow/python/ops/math_grad.py:1250: add_dispatch_support.<locals>.wrapper (from tensorflow.python.ops.array_ops) is deprecated and will be removed in a future version.\n",
      "Instructions for updating:\n",
      "Use tf.where in 2.0, which has the same broadcast rule as np.where\n",
      "W0701 22:15:50.542903 140019794884480 deprecation_wrapper.py:119] From /usr/local/lib/python3.6/dist-packages/keras/backend/tensorflow_backend.py:986: The name tf.assign_add is deprecated. Please use tf.compat.v1.assign_add instead.\n",
      "\n"
     ]
    },
    {
     "name": "stdout",
     "output_type": "stream",
     "text": [
      "Epoch 1/300\n",
      " - 2s - loss: 1.1004 - acc: 0.3291\n",
      "Epoch 2/300\n",
      " - 0s - loss: 1.0981 - acc: 0.3649\n",
      "Epoch 3/300\n",
      " - 0s - loss: 1.0965 - acc: 0.3964\n",
      "Epoch 4/300\n",
      " - 0s - loss: 1.0887 - acc: 0.4175\n",
      "Epoch 5/300\n",
      " - 0s - loss: 1.0710 - acc: 0.4164\n",
      "Epoch 6/300\n",
      " - 0s - loss: 1.0427 - acc: 0.4332\n",
      "Epoch 7/300\n",
      " - 0s - loss: 1.0106 - acc: 0.4501\n",
      "Epoch 8/300\n",
      " - 0s - loss: 0.9805 - acc: 0.4900\n",
      "Epoch 9/300\n",
      " - 0s - loss: 0.9580 - acc: 0.4753\n",
      "Epoch 10/300\n",
      " - 0s - loss: 0.9295 - acc: 0.4995\n",
      "Epoch 11/300\n",
      " - 0s - loss: 0.9069 - acc: 0.5058\n",
      "Epoch 12/300\n",
      " - 0s - loss: 0.8880 - acc: 0.5205\n",
      "Epoch 13/300\n",
      " - 0s - loss: 0.8721 - acc: 0.5247\n",
      "Epoch 14/300\n",
      " - 0s - loss: 0.8563 - acc: 0.5258\n",
      "Epoch 15/300\n",
      " - 0s - loss: 0.8413 - acc: 0.5300\n",
      "Epoch 16/300\n",
      " - 0s - loss: 0.8272 - acc: 0.5321\n",
      "Epoch 17/300\n",
      " - 0s - loss: 0.8134 - acc: 0.5342\n",
      "Epoch 18/300\n",
      " - 0s - loss: 0.8005 - acc: 0.5889\n",
      "Epoch 19/300\n",
      " - 0s - loss: 0.7882 - acc: 0.6909\n",
      "Epoch 20/300\n",
      " - 0s - loss: 0.7766 - acc: 0.6898\n",
      "Epoch 21/300\n",
      " - 0s - loss: 0.7675 - acc: 0.6898\n",
      "Epoch 22/300\n",
      " - 0s - loss: 0.7550 - acc: 0.6919\n",
      "Epoch 23/300\n",
      " - 0s - loss: 0.7453 - acc: 0.6972\n",
      "Epoch 24/300\n",
      " - 0s - loss: 0.7345 - acc: 0.7087\n",
      "Epoch 25/300\n",
      " - 0s - loss: 0.7244 - acc: 0.7003\n",
      "Epoch 26/300\n",
      " - 0s - loss: 0.7152 - acc: 0.7035\n",
      "Epoch 27/300\n",
      " - 0s - loss: 0.7071 - acc: 0.7045\n",
      "Epoch 28/300\n",
      " - 0s - loss: 0.6984 - acc: 0.7045\n",
      "Epoch 29/300\n",
      " - 0s - loss: 0.6889 - acc: 0.7098\n",
      "Epoch 30/300\n",
      " - 0s - loss: 0.6820 - acc: 0.7150\n",
      "Epoch 31/300\n",
      " - 0s - loss: 0.6753 - acc: 0.7224\n",
      "Epoch 32/300\n",
      " - 0s - loss: 0.6664 - acc: 0.7277\n",
      "Epoch 33/300\n",
      " - 0s - loss: 0.6542 - acc: 0.7319\n",
      "Epoch 34/300\n",
      " - 0s - loss: 0.6445 - acc: 0.7361\n",
      "Epoch 35/300\n",
      " - 0s - loss: 0.6365 - acc: 0.7476\n",
      "Epoch 36/300\n",
      " - 0s - loss: 0.6284 - acc: 0.7371\n",
      "Epoch 37/300\n",
      " - 0s - loss: 0.6189 - acc: 0.7708\n",
      "Epoch 38/300\n",
      " - 0s - loss: 0.6068 - acc: 0.7844\n",
      "Epoch 39/300\n",
      " - 0s - loss: 0.5971 - acc: 0.7971\n",
      "Epoch 40/300\n",
      " - 0s - loss: 0.5870 - acc: 0.8034\n",
      "Epoch 41/300\n",
      " - 0s - loss: 0.5772 - acc: 0.8076\n",
      "Epoch 42/300\n",
      " - 0s - loss: 0.5683 - acc: 0.8223\n",
      "Epoch 43/300\n",
      " - 0s - loss: 0.5589 - acc: 0.8139\n",
      "Epoch 44/300\n",
      " - 0s - loss: 0.5491 - acc: 0.8244\n",
      "Epoch 45/300\n",
      " - 0s - loss: 0.5411 - acc: 0.8297\n",
      "Epoch 46/300\n",
      " - 0s - loss: 0.5334 - acc: 0.8360\n",
      "Epoch 47/300\n",
      " - 0s - loss: 0.5142 - acc: 0.8339\n",
      "Epoch 48/300\n",
      " - 0s - loss: 0.4690 - acc: 0.8286\n",
      "Epoch 49/300\n",
      " - 0s - loss: 0.4405 - acc: 0.8423\n",
      "Epoch 50/300\n",
      " - 0s - loss: 0.4177 - acc: 0.8570\n",
      "Epoch 51/300\n",
      " - 0s - loss: 0.3979 - acc: 0.8717\n",
      "Epoch 52/300\n",
      " - 0s - loss: 0.3840 - acc: 0.8738\n",
      "Epoch 53/300\n",
      " - 0s - loss: 0.3673 - acc: 0.8885\n",
      "Epoch 54/300\n",
      " - 0s - loss: 0.3534 - acc: 0.8906\n",
      "Epoch 55/300\n",
      " - 0s - loss: 0.3464 - acc: 0.8917\n",
      "Epoch 56/300\n",
      " - 0s - loss: 0.3314 - acc: 0.8991\n",
      "Epoch 57/300\n",
      " - 0s - loss: 0.3213 - acc: 0.9054\n",
      "Epoch 58/300\n",
      " - 0s - loss: 0.3123 - acc: 0.9033\n",
      "Epoch 59/300\n",
      " - 0s - loss: 0.3001 - acc: 0.9075\n",
      "Epoch 60/300\n",
      " - 0s - loss: 0.2957 - acc: 0.9117\n",
      "Epoch 61/300\n",
      " - 0s - loss: 0.2833 - acc: 0.9169\n",
      "Epoch 62/300\n",
      " - 0s - loss: 0.2779 - acc: 0.9180\n",
      "Epoch 63/300\n",
      " - 0s - loss: 0.2732 - acc: 0.9211\n",
      "Epoch 64/300\n",
      " - 0s - loss: 0.2660 - acc: 0.9190\n",
      "Epoch 65/300\n",
      " - 0s - loss: 0.2573 - acc: 0.9285\n",
      "Epoch 66/300\n",
      " - 0s - loss: 0.2510 - acc: 0.9253\n",
      "Epoch 67/300\n",
      " - 0s - loss: 0.2471 - acc: 0.9285\n",
      "Epoch 68/300\n",
      " - 0s - loss: 0.2439 - acc: 0.9317\n",
      "Epoch 69/300\n",
      " - 0s - loss: 0.2366 - acc: 0.9338\n",
      "Epoch 70/300\n",
      " - 0s - loss: 0.2333 - acc: 0.9306\n",
      "Epoch 71/300\n",
      " - 0s - loss: 0.2265 - acc: 0.9348\n",
      "Epoch 72/300\n",
      " - 0s - loss: 0.2243 - acc: 0.9453\n",
      "Epoch 73/300\n",
      " - 0s - loss: 0.2192 - acc: 0.9411\n",
      "Epoch 74/300\n",
      " - 0s - loss: 0.2164 - acc: 0.9422\n",
      "Epoch 75/300\n",
      " - 0s - loss: 0.2123 - acc: 0.9411\n",
      "Epoch 76/300\n",
      " - 0s - loss: 0.2119 - acc: 0.9401\n",
      "Epoch 77/300\n",
      " - 0s - loss: 0.2119 - acc: 0.9411\n",
      "Epoch 78/300\n",
      " - 0s - loss: 0.2040 - acc: 0.9443\n",
      "Epoch 79/300\n",
      " - 0s - loss: 0.2020 - acc: 0.9432\n",
      "Epoch 80/300\n",
      " - 0s - loss: 0.1969 - acc: 0.9464\n",
      "Epoch 81/300\n",
      " - 0s - loss: 0.1966 - acc: 0.9432\n",
      "Epoch 82/300\n",
      " - 0s - loss: 0.1970 - acc: 0.9422\n",
      "Epoch 83/300\n",
      " - 0s - loss: 0.1920 - acc: 0.9485\n",
      "Epoch 84/300\n",
      " - 0s - loss: 0.1962 - acc: 0.9432\n",
      "Epoch 85/300\n",
      " - 0s - loss: 0.1842 - acc: 0.9506\n",
      "Epoch 86/300\n",
      " - 0s - loss: 0.1812 - acc: 0.9506\n",
      "Epoch 87/300\n",
      " - 0s - loss: 0.1794 - acc: 0.9464\n",
      "Epoch 88/300\n",
      " - 0s - loss: 0.1771 - acc: 0.9516\n",
      "Epoch 89/300\n",
      " - 0s - loss: 0.1757 - acc: 0.9537\n",
      "Epoch 90/300\n",
      " - 0s - loss: 0.1738 - acc: 0.9506\n",
      "Epoch 91/300\n",
      " - 0s - loss: 0.1725 - acc: 0.9506\n",
      "Epoch 92/300\n",
      " - 0s - loss: 0.1683 - acc: 0.9558\n",
      "Epoch 93/300\n",
      " - 0s - loss: 0.1685 - acc: 0.9527\n",
      "Epoch 94/300\n",
      " - 0s - loss: 0.1663 - acc: 0.9506\n",
      "Epoch 95/300\n",
      " - 0s - loss: 0.1650 - acc: 0.9537\n",
      "Epoch 96/300\n",
      " - 0s - loss: 0.1621 - acc: 0.9548\n",
      "Epoch 97/300\n",
      " - 0s - loss: 0.1610 - acc: 0.9548\n",
      "Epoch 98/300\n",
      " - 0s - loss: 0.1591 - acc: 0.9590\n",
      "Epoch 99/300\n",
      " - 0s - loss: 0.1571 - acc: 0.9590\n",
      "Epoch 100/300\n",
      " - 0s - loss: 0.1545 - acc: 0.9611\n",
      "Epoch 101/300\n",
      " - 0s - loss: 0.1529 - acc: 0.9590\n",
      "Epoch 102/300\n",
      " - 0s - loss: 0.1508 - acc: 0.9611\n",
      "Epoch 103/300\n",
      " - 0s - loss: 0.1507 - acc: 0.9569\n",
      "Epoch 104/300\n",
      " - 0s - loss: 0.1474 - acc: 0.9611\n",
      "Epoch 105/300\n",
      " - 0s - loss: 0.1449 - acc: 0.9632\n",
      "Epoch 106/300\n",
      " - 0s - loss: 0.1427 - acc: 0.9653\n",
      "Epoch 107/300\n",
      " - 0s - loss: 0.1418 - acc: 0.9664\n",
      "Epoch 108/300\n",
      " - 0s - loss: 0.1476 - acc: 0.9600\n",
      "Epoch 109/300\n",
      " - 0s - loss: 0.1382 - acc: 0.9664\n",
      "Epoch 110/300\n",
      " - 0s - loss: 0.1399 - acc: 0.9664\n",
      "Epoch 111/300\n",
      " - 0s - loss: 0.1355 - acc: 0.9642\n",
      "Epoch 112/300\n",
      " - 0s - loss: 0.1337 - acc: 0.9632\n",
      "Epoch 113/300\n",
      " - 0s - loss: 0.1376 - acc: 0.9653\n",
      "Epoch 114/300\n",
      " - 0s - loss: 0.1308 - acc: 0.9653\n",
      "Epoch 115/300\n",
      " - 0s - loss: 0.1305 - acc: 0.9653\n",
      "Epoch 116/300\n",
      " - 0s - loss: 0.1251 - acc: 0.9685\n",
      "Epoch 117/300\n",
      " - 0s - loss: 0.1259 - acc: 0.9664\n",
      "Epoch 118/300\n",
      " - 0s - loss: 0.1229 - acc: 0.9674\n",
      "Epoch 119/300\n",
      " - 0s - loss: 0.1236 - acc: 0.9685\n",
      "Epoch 120/300\n",
      " - 0s - loss: 0.1200 - acc: 0.9737\n",
      "Epoch 121/300\n",
      " - 0s - loss: 0.1198 - acc: 0.9706\n",
      "Epoch 122/300\n",
      " - 0s - loss: 0.1165 - acc: 0.9716\n",
      "Epoch 123/300\n",
      " - 0s - loss: 0.1174 - acc: 0.9685\n",
      "Epoch 124/300\n",
      " - 0s - loss: 0.1148 - acc: 0.9737\n",
      "Epoch 125/300\n",
      " - 0s - loss: 0.1114 - acc: 0.9706\n",
      "Epoch 126/300\n",
      " - 0s - loss: 0.1096 - acc: 0.9727\n",
      "Epoch 127/300\n",
      " - 0s - loss: 0.1100 - acc: 0.9706\n",
      "Epoch 128/300\n",
      " - 0s - loss: 0.1085 - acc: 0.9769\n",
      "Epoch 129/300\n",
      " - 0s - loss: 0.1098 - acc: 0.9737\n",
      "Epoch 130/300\n",
      " - 0s - loss: 0.1036 - acc: 0.9727\n",
      "Epoch 131/300\n",
      " - 0s - loss: 0.1052 - acc: 0.9737\n",
      "Epoch 132/300\n",
      " - 0s - loss: 0.0959 - acc: 0.9769\n",
      "Epoch 133/300\n",
      " - 0s - loss: 0.0969 - acc: 0.9758\n",
      "Epoch 134/300\n",
      " - 0s - loss: 0.0957 - acc: 0.9727\n",
      "Epoch 135/300\n",
      " - 0s - loss: 0.0934 - acc: 0.9779\n",
      "Epoch 136/300\n",
      " - 0s - loss: 0.0916 - acc: 0.9811\n",
      "Epoch 137/300\n",
      " - 0s - loss: 0.0888 - acc: 0.9800\n",
      "Epoch 138/300\n",
      " - 0s - loss: 0.0880 - acc: 0.9790\n",
      "Epoch 139/300\n",
      " - 0s - loss: 0.0894 - acc: 0.9821\n",
      "Epoch 140/300\n",
      " - 0s - loss: 0.0863 - acc: 0.9790\n",
      "Epoch 141/300\n",
      " - 0s - loss: 0.0858 - acc: 0.9790\n",
      "Epoch 142/300\n",
      " - 0s - loss: 0.0871 - acc: 0.9790\n",
      "Epoch 143/300\n",
      " - 0s - loss: 0.0882 - acc: 0.9758\n",
      "Epoch 144/300\n",
      " - 0s - loss: 0.0881 - acc: 0.9790\n",
      "Epoch 145/300\n",
      " - 0s - loss: 0.0875 - acc: 0.9769\n",
      "Epoch 146/300\n",
      " - 0s - loss: 0.0831 - acc: 0.9800\n",
      "Epoch 147/300\n",
      " - 0s - loss: 0.0845 - acc: 0.9790\n",
      "Epoch 148/300\n",
      " - 0s - loss: 0.0780 - acc: 0.9832\n",
      "Epoch 149/300\n",
      " - 0s - loss: 0.0771 - acc: 0.9811\n",
      "Epoch 150/300\n",
      " - 0s - loss: 0.0735 - acc: 0.9853\n",
      "Epoch 151/300\n",
      " - 0s - loss: 0.0733 - acc: 0.9842\n",
      "Epoch 152/300\n",
      " - 0s - loss: 0.0744 - acc: 0.9842\n",
      "Epoch 153/300\n",
      " - 0s - loss: 0.0743 - acc: 0.9853\n",
      "Epoch 154/300\n",
      " - 0s - loss: 0.0714 - acc: 0.9853\n",
      "Epoch 155/300\n",
      " - 0s - loss: 0.0702 - acc: 0.9884\n",
      "Epoch 156/300\n",
      " - 0s - loss: 0.0673 - acc: 0.9863\n",
      "Epoch 157/300\n",
      " - 0s - loss: 0.0671 - acc: 0.9863\n",
      "Epoch 158/300\n",
      " - 0s - loss: 0.0657 - acc: 0.9874\n",
      "Epoch 159/300\n",
      " - 0s - loss: 0.0651 - acc: 0.9895\n",
      "Epoch 160/300\n",
      " - 0s - loss: 0.0647 - acc: 0.9895\n",
      "Epoch 161/300\n",
      " - 0s - loss: 0.0658 - acc: 0.9863\n",
      "Epoch 162/300\n",
      " - 0s - loss: 0.0646 - acc: 0.9863\n",
      "Epoch 163/300\n",
      " - 0s - loss: 0.0645 - acc: 0.9895\n",
      "Epoch 164/300\n",
      " - 0s - loss: 0.0617 - acc: 0.9895\n",
      "Epoch 165/300\n",
      " - 0s - loss: 0.0683 - acc: 0.9853\n",
      "Epoch 166/300\n",
      " - 0s - loss: 0.0698 - acc: 0.9853\n",
      "Epoch 167/300\n",
      " - 0s - loss: 0.0643 - acc: 0.9853\n",
      "Epoch 168/300\n",
      " - 0s - loss: 0.0618 - acc: 0.9874\n",
      "Epoch 169/300\n",
      " - 0s - loss: 0.0661 - acc: 0.9863\n",
      "Epoch 170/300\n",
      " - 0s - loss: 0.0610 - acc: 0.9895\n",
      "Epoch 171/300\n",
      " - 0s - loss: 0.0573 - acc: 0.9905\n",
      "Epoch 172/300\n",
      " - 0s - loss: 0.0595 - acc: 0.9905\n",
      "Epoch 173/300\n",
      " - 0s - loss: 0.0583 - acc: 0.9895\n",
      "Epoch 174/300\n",
      " - 0s - loss: 0.0599 - acc: 0.9874\n",
      "Epoch 175/300\n",
      " - 0s - loss: 0.0610 - acc: 0.9853\n",
      "Epoch 176/300\n",
      " - 0s - loss: 0.0587 - acc: 0.9895\n",
      "Epoch 177/300\n",
      " - 0s - loss: 0.0634 - acc: 0.9842\n",
      "Epoch 178/300\n",
      " - 0s - loss: 0.0633 - acc: 0.9863\n",
      "Epoch 179/300\n",
      " - 0s - loss: 0.0590 - acc: 0.9863\n",
      "Epoch 180/300\n",
      " - 0s - loss: 0.0606 - acc: 0.9874\n",
      "Epoch 181/300\n",
      " - 0s - loss: 0.0579 - acc: 0.9863\n",
      "Epoch 182/300\n",
      " - 0s - loss: 0.0556 - acc: 0.9884\n",
      "Epoch 183/300\n",
      " - 0s - loss: 0.0554 - acc: 0.9895\n",
      "Epoch 184/300\n",
      " - 0s - loss: 0.0562 - acc: 0.9895\n",
      "Epoch 185/300\n",
      " - 0s - loss: 0.0566 - acc: 0.9916\n",
      "Epoch 186/300\n",
      " - 0s - loss: 0.0536 - acc: 0.9916\n",
      "Epoch 187/300\n",
      " - 0s - loss: 0.0513 - acc: 0.9916\n",
      "Epoch 188/300\n",
      " - 0s - loss: 0.0514 - acc: 0.9926\n",
      "Epoch 189/300\n",
      " - 0s - loss: 0.0499 - acc: 0.9926\n",
      "Epoch 190/300\n",
      " - 0s - loss: 0.0498 - acc: 0.9926\n",
      "Epoch 191/300\n",
      " - 0s - loss: 0.0485 - acc: 0.9916\n",
      "Epoch 192/300\n",
      " - 0s - loss: 0.0478 - acc: 0.9905\n",
      "Epoch 193/300\n",
      " - 0s - loss: 0.0485 - acc: 0.9926\n",
      "Epoch 194/300\n",
      " - 0s - loss: 0.0479 - acc: 0.9916\n",
      "Epoch 195/300\n",
      " - 0s - loss: 0.0471 - acc: 0.9926\n",
      "Epoch 196/300\n",
      " - 0s - loss: 0.0483 - acc: 0.9916\n",
      "Epoch 197/300\n",
      " - 0s - loss: 0.0491 - acc: 0.9937\n",
      "Epoch 198/300\n",
      " - 0s - loss: 0.0498 - acc: 0.9905\n",
      "Epoch 199/300\n",
      " - 0s - loss: 0.0656 - acc: 0.9853\n",
      "Epoch 200/300\n",
      " - 0s - loss: 0.0651 - acc: 0.9863\n",
      "Epoch 201/300\n",
      " - 0s - loss: 0.0548 - acc: 0.9874\n",
      "Epoch 202/300\n",
      " - 0s - loss: 0.0541 - acc: 0.9884\n",
      "Epoch 203/300\n",
      " - 0s - loss: 0.0524 - acc: 0.9895\n",
      "Epoch 204/300\n",
      " - 0s - loss: 0.0468 - acc: 0.9926\n",
      "Epoch 205/300\n",
      " - 0s - loss: 0.0468 - acc: 0.9937\n",
      "Epoch 206/300\n",
      " - 0s - loss: 0.0450 - acc: 0.9926\n",
      "Epoch 207/300\n",
      " - 0s - loss: 0.0444 - acc: 0.9926\n",
      "Epoch 208/300\n",
      " - 0s - loss: 0.0444 - acc: 0.9937\n",
      "Epoch 209/300\n",
      " - 0s - loss: 0.0437 - acc: 0.9947\n",
      "Epoch 210/300\n",
      " - 0s - loss: 0.0463 - acc: 0.9926\n",
      "Epoch 211/300\n",
      " - 0s - loss: 0.0464 - acc: 0.9926\n",
      "Epoch 212/300\n",
      " - 0s - loss: 0.0437 - acc: 0.9926\n",
      "Epoch 213/300\n",
      " - 0s - loss: 0.0426 - acc: 0.9947\n",
      "Epoch 214/300\n",
      " - 0s - loss: 0.0425 - acc: 0.9937\n",
      "Epoch 215/300\n",
      " - 0s - loss: 0.0421 - acc: 0.9947\n",
      "Epoch 216/300\n",
      " - 0s - loss: 0.0416 - acc: 0.9926\n",
      "Epoch 217/300\n",
      " - 0s - loss: 0.0414 - acc: 0.9926\n",
      "Epoch 218/300\n",
      " - 0s - loss: 0.0413 - acc: 0.9947\n",
      "Epoch 219/300\n",
      " - 0s - loss: 0.0406 - acc: 0.9937\n",
      "Epoch 220/300\n",
      " - 0s - loss: 0.0443 - acc: 0.9916\n",
      "Epoch 221/300\n",
      " - 0s - loss: 0.0576 - acc: 0.9863\n",
      "Epoch 222/300\n",
      " - 0s - loss: 0.0925 - acc: 0.9716\n",
      "Epoch 223/300\n",
      " - 0s - loss: 0.0714 - acc: 0.9811\n",
      "Epoch 224/300\n",
      " - 0s - loss: 0.0879 - acc: 0.9737\n",
      "Epoch 225/300\n",
      " - 0s - loss: 0.0680 - acc: 0.9842\n",
      "Epoch 226/300\n",
      " - 0s - loss: 0.0573 - acc: 0.9884\n",
      "Epoch 227/300\n",
      " - 0s - loss: 0.0509 - acc: 0.9905\n",
      "Epoch 228/300\n",
      " - 0s - loss: 0.0496 - acc: 0.9884\n",
      "Epoch 229/300\n",
      " - 0s - loss: 0.0496 - acc: 0.9874\n",
      "Epoch 00229: early stopping\n"
     ]
    },
    {
     "data": {
      "text/plain": [
       "Pipeline(memory=None,\n",
       "         steps=[('standardscaler',\n",
       "                 StandardScaler(copy=True, with_mean=True, with_std=True)),\n",
       "                ('kerasclassifier',\n",
       "                 <keras.wrappers.scikit_learn.KerasClassifier object at 0x7f58b4482128>)],\n",
       "         verbose=False)"
      ]
     },
     "execution_count": 83,
     "metadata": {
      "tags": []
     },
     "output_type": "execute_result"
    }
   ],
   "source": [
    "model.fit(X_train, y_train)"
   ]
  },
  {
   "cell_type": "code",
   "execution_count": 0,
   "metadata": {
    "colab": {},
    "colab_type": "code",
    "id": "xbnHt86um85N"
   },
   "outputs": [],
   "source": []
  },
  {
   "cell_type": "code",
   "execution_count": 0,
   "metadata": {
    "colab": {},
    "colab_type": "code",
    "id": "fBRX4YW5etTc"
   },
   "outputs": [],
   "source": [
    "model_accuracy = model.score(X_test, y_test)\n",
    "print(\"Deep Neural Network - Accuracy: {}\".format(model_accuracy))"
   ]
  },
  {
   "cell_type": "code",
   "execution_count": 0,
   "metadata": {
    "colab": {},
    "colab_type": "code",
    "id": "bRoYmhWXeyKA"
   },
   "outputs": [],
   "source": [
    "predictions = model.predict(X_test)\n",
    "print (\"\\nUsing\", len(X_train), \"samples for training\")\n",
    "print (\"\\nConfusion matrix\\n\", confusion_matrix(y_test, predictions))\n",
    "print(\"\\n\", classification_report(y_test, predictions))"
   ]
  },
  {
   "cell_type": "code",
   "execution_count": 0,
   "metadata": {
    "colab": {},
    "colab_type": "code",
    "id": "QORZnLFdV7a4"
   },
   "outputs": [],
   "source": []
  }
 ],
 "metadata": {
  "accelerator": "GPU",
  "colab": {
   "collapsed_sections": [],
   "include_colab_link": true,
   "name": "Alzheimers.ipynb",
   "provenance": [],
   "version": "0.3.2"
  },
  "kernelspec": {
   "display_name": "Python [conda env:PythonData]",
   "language": "python",
   "name": "pythondata"
  },
  "language_info": {
   "codemirror_mode": {
    "name": "ipython",
    "version": 3
   },
   "file_extension": ".py",
   "mimetype": "text/x-python",
   "name": "python",
   "nbconvert_exporter": "python",
   "pygments_lexer": "ipython3",
   "version": "3.7.1"
  }
 },
 "nbformat": 4,
 "nbformat_minor": 1
}
